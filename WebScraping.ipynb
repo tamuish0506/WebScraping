{
 "cells": [
  {
   "cell_type": "code",
   "execution_count": 2,
   "metadata": {},
   "outputs": [],
   "source": [
    "import requests\n",
    "from bs4 import BeautifulSoup"
   ]
  },
  {
   "cell_type": "code",
   "execution_count": 4,
   "metadata": {},
   "outputs": [
    {
     "name": "stdout",
     "output_type": "stream",
     "text": [
      "<html>\n",
      " <body>\n",
      "  <p>\n",
      "   Some\n",
      "   <b>\n",
      "    bad\n",
      "    <i>\n",
      "     HTML\n",
      "    </i>\n",
      "   </b>\n",
      "  </p>\n",
      " </body>\n",
      "</html>\n"
     ]
    },
    {
     "name": "stderr",
     "output_type": "stream",
     "text": [
      "/anaconda3/lib/python3.6/site-packages/bs4/__init__.py:181: UserWarning: No parser was explicitly specified, so I'm using the best available HTML parser for this system (\"lxml\"). This usually isn't a problem, but if you run this code on another system, or in a different virtual environment, it may use a different parser and behave differently.\n",
      "\n",
      "The code that caused this warning is on line 193 of the file /anaconda3/lib/python3.6/runpy.py. To get rid of this warning, change code that looks like this:\n",
      "\n",
      " BeautifulSoup(YOUR_MARKUP})\n",
      "\n",
      "to this:\n",
      "\n",
      " BeautifulSoup(YOUR_MARKUP, \"lxml\")\n",
      "\n",
      "  markup_type=markup_type))\n"
     ]
    }
   ],
   "source": [
    "soup = BeautifulSoup(\"<p>Some<b>bad<i>HTML\")\n",
    "print(soup.prettify())"
   ]
  },
  {
   "cell_type": "code",
   "execution_count": 32,
   "metadata": {},
   "outputs": [],
   "source": [
    "# set our response to a variable named r\n",
    "r = requests.get(\"http://www.pyladies.com\")"
   ]
  },
  {
   "cell_type": "code",
   "execution_count": 7,
   "metadata": {},
   "outputs": [
    {
     "data": {
      "text/plain": [
       "200"
      ]
     },
     "execution_count": 7,
     "metadata": {},
     "output_type": "execute_result"
    }
   ],
   "source": [
    "r.status_code"
   ]
  },
  {
   "cell_type": "code",
   "execution_count": 8,
   "metadata": {},
   "outputs": [
    {
     "data": {
      "text/plain": [
       "'<!DOCTYPE html>\\n\\n<html>\\n<head>\\n    \\n    <title>PyLadies &ndash; Women Who Love Coding in Python</title>\\n    <meta name=\"viewport\" content=\"width=device-width, initial-scale=1, maximum-scale=1\"/>\\n    <link rel=\"stylesheet\" href=\"/assets/css/pygments.css\" media=\"screen\" title=\"screen\"/>\\n    <link rel=\"stylesheet\" href=\"/assets/css/screen.css\" media=\"screen\" title=\"screen\"/>\\n    <link rel=\"stylesheet\" href=\"/assets/css/mailchimp.css\" media=\"screen\" title=\"screen\"/>\\n    <link href=\\'https://fonts.googleapis.com/css?family=Glegoo|Bitter|Droid+Serif:400,700,400italic,700italic|Raleway:400,200,300,500,600,700\\' rel=\\'stylesheet\\' type=\\'text/css\\'/>\\n    <link rel=\"shortcut icon\" href=\"/assets/images/favicon.ico\" type=\"image/ico\" />\\n    <link rel=\"alternate\" type=\"application/atom+xml\" title=\"Atom 1.0\" href=\"http://pyladies.com/feed.xml\" />\\n    <script src=\"//ajax.googleapis.com/ajax/libs/jquery/1.9.0/jquery.min.js\"></script>\\n    <script>if (window.location.protocol != \"https:\" && window.location.host.indexOf(\\'pyladies.com\\') > -1) {\\n      window.location.protocol = \"https\";\\n    }</script>\\n\\t\\n    <script src=\"https://platform.twitter.com/widgets.js\" type=\"text/javascript\"></script>\\n    <script type=\"text/javascript\" src=\"/assets/js/meetup_widget.js\"></script>\\n    <script type=\"text/javascript\">\\n        $(document).ready(function() {\\n            var meetupIds = \"8160762,4507652,5947662,9301202,243646248,9206152,8623152,5160912,8401402,18320041,2292131,13320732,15507962,22260794,13995752,248903240,253185498,9042722,244079349,13106102,2288171,95771702,203416475,186995752,19669577,14872062,193620926,4576312,201759643,18600594,185065560,4808882,16760422,8161032,5089102,3604052,5411282,10708842,19180337,14910222,7660062,18987204,14748112,6488102,18607403,7538042,2292131\";\\n            PyladiesMeetupWidget.addUpcomingMeetups(meetupIds);\\n        });\\n\\t</script>\\n\\t\\n\\t\\n\\t\\n</head>\\n\\n<body>\\n    <a href=\"https://github.com/pyladies/pyladies\" class=\"github-corner\"><svg width=\"80\" height=\"80\" viewBox=\"0 0 250 250\" style=\"fill:rgb(255, 100, 100); color:#fff; position: absolute; top: 0; border: 0; left: 0; transform: scale(-1, 1);\"><path d=\"M0,0 L115,115 L130,115 L142,142 L250,250 L250,0 Z\"></path><path d=\"M128.3,109.0 C113.8,99.7 119.0,89.6 119.0,89.6 C122.0,82.7 120.5,78.6 120.5,78.6 C119.2,72.0 123.4,76.3 123.4,76.3 C127.3,80.9 125.5,87.3 125.5,87.3 C122.9,97.6 130.6,101.9 134.4,103.2\" fill=\"currentColor\" style=\"transform-origin: 130px 106px;\" class=\"octo-arm\"></path><path d=\"M115.0,115.0 C114.9,115.1 118.7,116.5 119.8,115.4 L133.7,101.6 C136.9,99.2 139.9,98.4 142.2,98.6 C133.8,88.0 127.5,74.4 143.8,58.0 C148.5,53.4 154.0,51.2 159.7,51.0 C160.3,49.4 163.2,43.6 171.4,40.1 C171.4,40.1 176.1,42.5 178.8,56.2 C183.1,58.6 187.2,61.8 190.9,65.4 C194.5,69.0 197.7,73.2 200.1,77.6 C213.8,80.2 216.3,84.9 216.3,84.9 C212.7,93.1 206.9,96.0 205.4,96.6 C205.1,102.4 203.0,107.8 198.3,112.5 C181.9,128.9 168.3,122.5 157.7,114.1 C157.9,116.9 156.7,120.9 152.7,124.9 L141.0,136.5 C139.8,137.7 141.6,141.9 141.8,141.8 Z\" fill=\"currentColor\" class=\"octo-body\"></path></svg></a><style>.github-corner:hover .octo-arm{animation:octocat-wave 560ms ease-in-out}@keyframes octocat-wave{0%,100%{transform:rotate(0)}20%,60%{transform:rotate(-25deg)}40%,80%{transform:rotate(10deg)}}@media (max-width:500px){.github-corner:hover .octo-arm{animation:none}.github-corner .octo-arm{animation:octocat-wave 560ms ease-in-out}}</style>\\n    <div class=\"header\">\\n        <div id=\"pyladies_header_logo\">\\n            <a href=\"/\"><img src=\"/assets/images/pyladies_logo.png\" width=\"260\" height=\"120\" alt=\"PyLadies Logo\"/></a>\\n        </div>\\n        <nav>\\n            <ul class=\"nav-wrapper\">\\n                <li><a href=\"/\">Home</a></li>\\n                <li><a href=\"/about/\">About</a></li>\\n                <li><a href=\"https://discuss.pyladies.com\">Forum</a></li>\\n                <li><a href=\"/locations/\">Locations</a></li>\\n                <li><a href=\"https://blog.pyladies.com\">Blog</a></li>\\n                <li><a href=\"/CodeOfConduct/\">Code of Conduct</a></li>\\n                <li><a href=\"/resources/\">Resources</a></li>\\n                <li><a href=\"/cdn-cgi/l/email-protection#543d3a323b14242d3835303d31277a373b396b2721363e313720691c3138383b\" id=\"contact-link\">Contact</a></li>\\n                <li><a href=\"http://pyladies.com/feed.xml\" title=\"RSS\">RSS</a></li>\\n            </ul>\\n        </nav>\\n    </div>\\n    <div class=\"page\">\\n        \\n    <h1 id=\"homepage_h1\">Welcome!</h1>\\n    <section id=\"archive\">\\n        <article class=\"welcome\">\\n            <div id=\"welcome_message\">\\n                    <h2>Welcome!</h2>\\n                    <img src=\"/assets/images/pylady_geek.png\" alt=\"Pyladies lady graphic\" />\\n                    <p>We are an international mentorship group with a focus on helping more women become active participants and leaders in the Python open-source community. Our mission is to promote, educate and advance a diverse Python community through outreach, education, conferences, events and social gatherings.</p>\\n                    <p>PyLadies also aims to provide a friendly support network for women and a bridge to the larger Python world. Anyone with an interest in Python is encouraged to participate!</p>\\n            </div>\\n        </article>\\n\\n        <article class=\"latest\">\\n            <h3 class=\"latest-master\">Latest Blog Posts</h3>\\n                <div id=\"latestBlog\">\\n                    \\n                        <h3><a href=\"/blog/Web-Development/django-resources/\">Web Development</a></h3>\\n                        <time pubdate datetime=\"2015-05-03\">May 03, 2015</time>\\n                        <p><a href=\"http://www.djangoproject.com/\">Django</a> is one of the most popular web frameworks. It&rsquo;s a great option if you want to use Python to build web apps.  Start with <a href=\"https://docs.djangoproject.com/en/stable/intro/tutorial01/\">the official Django polls tutorial</a> or the <a href=\"http://tutorial.djangogirls.org/\">Django Girls blog tutorial</a>.  <a href=\"https://www.twoscoopspress.com/collections/django/products/two-scoops-of-django-1-11\">Two Scoops of Django: Best Practices For Django 1.11</a> was co-written by one of the co-founders of PyLadies!   <a href=\"/blog/Web-Development/django-resources/\" class=\\'more-link\\'>Read more &rarr;</a></p>\\n                    \\n                        <h3><a href=\"/blog/A-PyLadies-packed-PyCon-2015/pyladies-at-pycon/\">A PyLadies-packed PyCon 2015</a></h3>\\n                        <time pubdate datetime=\"2015-03-23\">March 23, 2015</time>\\n                        <p>Want to pack your PyCon schedule with PyLadies events?  Here are all the details!  <a href=\"/blog/A-PyLadies-packed-PyCon-2015/pyladies-at-pycon/\" class=\\'more-link\\'>Read more &rarr;</a></p>\\n                    \\n                </div>\\n        </article>\\n    </section>\\n\\n\\n    </div>\\n\\n\\t<div class=\"sidebar\">\\n\\t\\t\\n        <div id=\"mc_embed_signup\">\\n            <form action=\"https://pyladies.us2.list-manage1.com/subscribe/post?u=9d20e0bc6bc0e88a076738c6f&amp;id=23e4f35e45\" method=\"post\" id=\"mc-embedded-subscribe-form\" name=\"mc-embedded-subscribe-form\" class=\"validate\" target=\"_blank\" novalidate>\\n                <label for=\"mce-EMAIL\">Keep up with what\\'s going in the PyLadies community on our low-volume announcement list.  Men and women from everywhere are welcome.  Unsubscribe anytime. </label>\\n                <input type=\"email\" value=\"\" name=\"EMAIL\" class=\"email\" id=\"mce-EMAIL\" placeholder=\"email address\" required>\\n                <div class=\"clear\"><input type=\"submit\" value=\"Subscribe\" name=\"subscribe\" id=\"mc-embedded-subscribe\" class=\"button\"></div>\\n            </form>\\n        </div>\\n\\n        <div id=\"sponsor_us_btn\"><a href=\"/sponsor/\">Sponsor Us</a></div>\\n\\n        <div id=\"shirts_btn\" style=\"display:flex;justify-content:center;align-items:center;font-size:14px;\"><a href=\"https://pyladies.spreadshirt.com/\">Get Swag</a></div>\\n\\n        <div id=\"stickers_btn\" style=\"display:flex;justify-content:center;align-items:center;font-size:14px;\"><a href=\"https://www.stickermule.com/user/1070441144/stickers\">Buy Stickers</a></div>\\n\\n        <h3>Upcoming Meetups</h3>\\n        <div id=\"upcomingMeetupsList\">\\n        </div>\\n\\n        <div id=\"twitter_feed\">\\n            <h3>Recent Tweets</h3>\\n            <div id=\"chapter_tweets\">\\n                <a class=\"twitter-timeline\" href=\"https://twitter.com/pyladies/lists/pyladies-locations\" data-widget-id=\"635861904234258433\">Tweets from https://twitter.com/pyladies/lists/pyladies-locations</a>\\n                <script data-cfasync=\"false\" src=\"/cdn-cgi/scripts/5c5dd728/cloudflare-static/email-decode.min.js\"></script><script>!function(d,s,id){var js,fjs=d.getElementsByTagName(s)[0],p=/^http:/.test(d.location)?\\'http\\':\\'https\\';if(!d.getElementById(id)){js=d.createElement(s);js.id=id;js.src=p+\"://platform.twitter.com/widgets.js\";fjs.parentNode.insertBefore(js,fjs);}}(document,\"script\",\"twitter-wjs\");</script>\\n            </div>\\n\\t\\t</div>\\n\\t\\t\\n    </div>\\n\\n    <div class=\"footer-wrapper\">\\n            <footer id=\"bottom\">\\n\\t\\t\\t\\n                <ul class=\"social\">\\n                    <li><a class=\"icon google-plus\" data-icon=\"&#62223;\" href=\"https://plus.google.com/communities/108807002736066163985\" title=\"Google+\"></a></li>\\n                    <li><a class=\"icon github\" data-icon=\"&#62208;\" href=\"http://github.com/pyladies\" title=\"GitHub\"></a></li>\\n                    <li><a class=\"icon rss\" data-icon=\"&#59194;\" href=\"http://pyladies.com/feed.xml\" title=\"RSS\"></a></li>\\n                    <li><a class=\"icon creative-commons\" data-icon=\"&#128325;\" href=\"http://creativecommons.org/licenses/by-sa/3.0/\" title=\"Creative Commons\"></a></li>\\n                    <ul class=\"footer-notice\">\\n                        <li>2007 - 2018 PyLadies. All Rights Reserved.</li>\\n                        <li>Disclaimer - PyLadies and the PyLadies logo are trademarks of the Python Software Foundation</li>\\n                    </ul>\\n                </ul>\\n            \\n            </footer>\\n    </div>\\n\\n    <script type=\"text/javascript\">\\n\\n      var _gaq = _gaq || [];\\n      _gaq.push([\\'_setAccount\\', \\'UA-36930002-1\\']);\\n      _gaq.push([\\'_trackPageview\\']);\\n\\n      (function() {\\n        var ga = document.createElement(\\'script\\'); ga.type = \\'text/javascript\\'; ga.async = true;\\n        ga.src = (\\'https:\\' == document.location.protocol ? \\'https://ssl\\' : \\'http://www\\') + \\'.google-analytics.com/ga.js\\';\\n        var s = document.getElementsByTagName(\\'script\\')[0]; s.parentNode.insertBefore(ga, s);\\n      })();\\n\\n    </script>\\n\\n</body>\\n</html>'"
      ]
     },
     "execution_count": 8,
     "metadata": {},
     "output_type": "execute_result"
    }
   ],
   "source": [
    "r.text"
   ]
  },
  {
   "cell_type": "code",
   "execution_count": 9,
   "metadata": {},
   "outputs": [
    {
     "name": "stdout",
     "output_type": "stream",
     "text": [
      "do something\n",
      "do something else\n"
     ]
    }
   ],
   "source": [
    "import time\n",
    "print('do something')\n",
    "time.sleep(5)  # wait 5 seconds\n",
    "print('do something else')"
   ]
  },
  {
   "cell_type": "code",
   "execution_count": 12,
   "metadata": {},
   "outputs": [
    {
     "name": "stdout",
     "output_type": "stream",
     "text": [
      "<!DOCTYPE html>\n",
      "<html>\n",
      " <head>\n",
      "  <title>\n",
      "   PyLadies – Women Who Love Coding in Python\n",
      "  </title>\n",
      "  <meta content=\"width=device-width, initial-scale=1, maximum-scale=1\" name=\"viewport\"/>\n",
      "  <link href=\"/assets/css/pygments.css\" media=\"screen\" rel=\"stylesheet\" title=\"screen\"/>\n",
      "  <link href=\"/assets/css/screen.css\" media=\"screen\" rel=\"stylesheet\" title=\"screen\"/>\n",
      "  <link href=\"/assets/css/mailchimp.css\" media=\"screen\" rel=\"stylesheet\" title=\"screen\"/>\n",
      "  <link href=\"https://fonts.googleapis.com/css?family=Glegoo|Bitter|Droid+Serif:400,700,400italic,700italic|Raleway:400,200,300,500,600,700\" rel=\"stylesheet\" type=\"text/css\"/>\n",
      "  <link href=\"/assets/images/favicon.ico\" rel=\"shortcut icon\" type=\"image/ico\"/>\n",
      "  <link href=\"http://pyladies.com/feed.xml\" rel=\"alternate\" title=\"Atom 1.0\" type=\"application/atom+xml\"/>\n",
      "  <script src=\"//ajax.googleapis.com/ajax/libs/jquery/1.9.0/jquery.min.js\">\n",
      "  </script>\n",
      "  <script>\n",
      "   if (window.location.protocol != \"https:\" && window.location.host.indexOf('pyladies.com') > -1) {\n",
      "      window.location.protocol = \"https\";\n",
      "    }\n",
      "  </script>\n",
      "  <script src=\"https://platform.twitter.com/widgets.js\" type=\"text/javascript\">\n",
      "  </script>\n",
      "  <script src=\"/assets/js/meetup_widget.js\" type=\"text/javascript\">\n",
      "  </script>\n",
      "  <script type=\"text/javascript\">\n",
      "   $(document).ready(function() {\n",
      "            var meetupIds = \"8160762,4507652,5947662,9301202,243646248,9206152,8623152,5160912,8401402,18320041,2292131,13320732,15507962,22260794,13995752,248903240,253185498,9042722,244079349,13106102,2288171,95771702,203416475,186995752,19669577,14872062,193620926,4576312,201759643,18600594,185065560,4808882,16760422,8161032,5089102,3604052,5411282,10708842,19180337,14910222,7660062,18987204,14748112,6488102,18607403,7538042,2292131\";\n",
      "            PyladiesMeetupWidget.addUpcomingMeetups(meetupIds);\n",
      "        });\n",
      "  </script>\n",
      " </head>\n",
      " <body>\n",
      "  <a class=\"github-corner\" href=\"https://github.com/pyladies/pyladies\">\n",
      "   <svg height=\"80\" style=\"fill:rgb(255, 100, 100); color:#fff; position: absolute; top: 0; border: 0; left: 0; transform: scale(-1, 1);\" viewbox=\"0 0 250 250\" width=\"80\">\n",
      "    <path d=\"M0,0 L115,115 L130,115 L142,142 L250,250 L250,0 Z\">\n",
      "    </path>\n",
      "    <path class=\"octo-arm\" d=\"M128.3,109.0 C113.8,99.7 119.0,89.6 119.0,89.6 C122.0,82.7 120.5,78.6 120.5,78.6 C119.2,72.0 123.4,76.3 123.4,76.3 C127.3,80.9 125.5,87.3 125.5,87.3 C122.9,97.6 130.6,101.9 134.4,103.2\" fill=\"currentColor\" style=\"transform-origin: 130px 106px;\">\n",
      "    </path>\n",
      "    <path class=\"octo-body\" d=\"M115.0,115.0 C114.9,115.1 118.7,116.5 119.8,115.4 L133.7,101.6 C136.9,99.2 139.9,98.4 142.2,98.6 C133.8,88.0 127.5,74.4 143.8,58.0 C148.5,53.4 154.0,51.2 159.7,51.0 C160.3,49.4 163.2,43.6 171.4,40.1 C171.4,40.1 176.1,42.5 178.8,56.2 C183.1,58.6 187.2,61.8 190.9,65.4 C194.5,69.0 197.7,73.2 200.1,77.6 C213.8,80.2 216.3,84.9 216.3,84.9 C212.7,93.1 206.9,96.0 205.4,96.6 C205.1,102.4 203.0,107.8 198.3,112.5 C181.9,128.9 168.3,122.5 157.7,114.1 C157.9,116.9 156.7,120.9 152.7,124.9 L141.0,136.5 C139.8,137.7 141.6,141.9 141.8,141.8 Z\" fill=\"currentColor\">\n",
      "    </path>\n",
      "   </svg>\n",
      "  </a>\n",
      "  <style>\n",
      "   .github-corner:hover .octo-arm{animation:octocat-wave 560ms ease-in-out}@keyframes octocat-wave{0%,100%{transform:rotate(0)}20%,60%{transform:rotate(-25deg)}40%,80%{transform:rotate(10deg)}}@media (max-width:500px){.github-corner:hover .octo-arm{animation:none}.github-corner .octo-arm{animation:octocat-wave 560ms ease-in-out}}\n",
      "  </style>\n",
      "  <div class=\"header\">\n",
      "   <div id=\"pyladies_header_logo\">\n",
      "    <a href=\"/\">\n",
      "     <img alt=\"PyLadies Logo\" height=\"120\" src=\"/assets/images/pyladies_logo.png\" width=\"260\"/>\n",
      "    </a>\n",
      "   </div>\n",
      "   <nav>\n",
      "    <ul class=\"nav-wrapper\">\n",
      "     <li>\n",
      "      <a href=\"/\">\n",
      "       Home\n",
      "      </a>\n",
      "     </li>\n",
      "     <li>\n",
      "      <a href=\"/about/\">\n",
      "       About\n",
      "      </a>\n",
      "     </li>\n",
      "     <li>\n",
      "      <a href=\"https://discuss.pyladies.com\">\n",
      "       Forum\n",
      "      </a>\n",
      "     </li>\n",
      "     <li>\n",
      "      <a href=\"/locations/\">\n",
      "       Locations\n",
      "      </a>\n",
      "     </li>\n",
      "     <li>\n",
      "      <a href=\"https://blog.pyladies.com\">\n",
      "       Blog\n",
      "      </a>\n",
      "     </li>\n",
      "     <li>\n",
      "      <a href=\"/CodeOfConduct/\">\n",
      "       Code of Conduct\n",
      "      </a>\n",
      "     </li>\n",
      "     <li>\n",
      "      <a href=\"/resources/\">\n",
      "       Resources\n",
      "      </a>\n",
      "     </li>\n",
      "     <li>\n",
      "      <a href=\"/cdn-cgi/l/email-protection#543d3a323b14242d3835303d31277a373b396b2721363e313720691c3138383b\" id=\"contact-link\">\n",
      "       Contact\n",
      "      </a>\n",
      "     </li>\n",
      "     <li>\n",
      "      <a href=\"http://pyladies.com/feed.xml\" title=\"RSS\">\n",
      "       RSS\n",
      "      </a>\n",
      "     </li>\n",
      "    </ul>\n",
      "   </nav>\n",
      "  </div>\n",
      "  <div class=\"page\">\n",
      "   <h1 id=\"homepage_h1\">\n",
      "    Welcome!\n",
      "   </h1>\n",
      "   <section id=\"archive\">\n",
      "    <article class=\"welcome\">\n",
      "     <div id=\"welcome_message\">\n",
      "      <h2>\n",
      "       Welcome!\n",
      "      </h2>\n",
      "      <img alt=\"Pyladies lady graphic\" src=\"/assets/images/pylady_geek.png\"/>\n",
      "      <p>\n",
      "       We are an international mentorship group with a focus on helping more women become active participants and leaders in the Python open-source community. Our mission is to promote, educate and advance a diverse Python community through outreach, education, conferences, events and social gatherings.\n",
      "      </p>\n",
      "      <p>\n",
      "       PyLadies also aims to provide a friendly support network for women and a bridge to the larger Python world. Anyone with an interest in Python is encouraged to participate!\n",
      "      </p>\n",
      "     </div>\n",
      "    </article>\n",
      "    <article class=\"latest\">\n",
      "     <h3 class=\"latest-master\">\n",
      "      Latest Blog Posts\n",
      "     </h3>\n",
      "     <div id=\"latestBlog\">\n",
      "      <h3>\n",
      "       <a href=\"/blog/Web-Development/django-resources/\">\n",
      "        Web Development\n",
      "       </a>\n",
      "      </h3>\n",
      "      <time datetime=\"2015-05-03\" pubdate=\"\">\n",
      "       May 03, 2015\n",
      "      </time>\n",
      "      <p>\n",
      "       <a href=\"http://www.djangoproject.com/\">\n",
      "        Django\n",
      "       </a>\n",
      "       is one of the most popular web frameworks. It’s a great option if you want to use Python to build web apps.  Start with\n",
      "       <a href=\"https://docs.djangoproject.com/en/stable/intro/tutorial01/\">\n",
      "        the official Django polls tutorial\n",
      "       </a>\n",
      "       or the\n",
      "       <a href=\"http://tutorial.djangogirls.org/\">\n",
      "        Django Girls blog tutorial\n",
      "       </a>\n",
      "       .\n",
      "       <a href=\"https://www.twoscoopspress.com/collections/django/products/two-scoops-of-django-1-11\">\n",
      "        Two Scoops of Django: Best Practices For Django 1.11\n",
      "       </a>\n",
      "       was co-written by one of the co-founders of PyLadies!\n",
      "       <a class=\"more-link\" href=\"/blog/Web-Development/django-resources/\">\n",
      "        Read more →\n",
      "       </a>\n",
      "      </p>\n",
      "      <h3>\n",
      "       <a href=\"/blog/A-PyLadies-packed-PyCon-2015/pyladies-at-pycon/\">\n",
      "        A PyLadies-packed PyCon 2015\n",
      "       </a>\n",
      "      </h3>\n",
      "      <time datetime=\"2015-03-23\" pubdate=\"\">\n",
      "       March 23, 2015\n",
      "      </time>\n",
      "      <p>\n",
      "       Want to pack your PyCon schedule with PyLadies events?  Here are all the details!\n",
      "       <a class=\"more-link\" href=\"/blog/A-PyLadies-packed-PyCon-2015/pyladies-at-pycon/\">\n",
      "        Read more →\n",
      "       </a>\n",
      "      </p>\n",
      "     </div>\n",
      "    </article>\n",
      "   </section>\n",
      "  </div>\n",
      "  <div class=\"sidebar\">\n",
      "   <div id=\"mc_embed_signup\">\n",
      "    <form action=\"https://pyladies.us2.list-manage1.com/subscribe/post?u=9d20e0bc6bc0e88a076738c6f&amp;id=23e4f35e45\" class=\"validate\" id=\"mc-embedded-subscribe-form\" method=\"post\" name=\"mc-embedded-subscribe-form\" novalidate=\"\" target=\"_blank\">\n",
      "     <label for=\"mce-EMAIL\">\n",
      "      Keep up with what's going in the PyLadies community on our low-volume announcement list.  Men and women from everywhere are welcome.  Unsubscribe anytime.\n",
      "     </label>\n",
      "     <input class=\"email\" id=\"mce-EMAIL\" name=\"EMAIL\" placeholder=\"email address\" required=\"\" type=\"email\" value=\"\"/>\n",
      "     <div class=\"clear\">\n",
      "      <input class=\"button\" id=\"mc-embedded-subscribe\" name=\"subscribe\" type=\"submit\" value=\"Subscribe\"/>\n",
      "     </div>\n",
      "    </form>\n",
      "   </div>\n",
      "   <div id=\"sponsor_us_btn\">\n",
      "    <a href=\"/sponsor/\">\n",
      "     Sponsor Us\n",
      "    </a>\n",
      "   </div>\n",
      "   <div id=\"shirts_btn\" style=\"display:flex;justify-content:center;align-items:center;font-size:14px;\">\n",
      "    <a href=\"https://pyladies.spreadshirt.com/\">\n",
      "     Get Swag\n",
      "    </a>\n",
      "   </div>\n",
      "   <div id=\"stickers_btn\" style=\"display:flex;justify-content:center;align-items:center;font-size:14px;\">\n",
      "    <a href=\"https://www.stickermule.com/user/1070441144/stickers\">\n",
      "     Buy Stickers\n",
      "    </a>\n",
      "   </div>\n",
      "   <h3>\n",
      "    Upcoming Meetups\n",
      "   </h3>\n",
      "   <div id=\"upcomingMeetupsList\">\n",
      "   </div>\n",
      "   <div id=\"twitter_feed\">\n",
      "    <h3>\n",
      "     Recent Tweets\n",
      "    </h3>\n",
      "    <div id=\"chapter_tweets\">\n",
      "     <a class=\"twitter-timeline\" data-widget-id=\"635861904234258433\" href=\"https://twitter.com/pyladies/lists/pyladies-locations\">\n",
      "      Tweets from https://twitter.com/pyladies/lists/pyladies-locations\n",
      "     </a>\n",
      "     <script data-cfasync=\"false\" src=\"/cdn-cgi/scripts/5c5dd728/cloudflare-static/email-decode.min.js\">\n",
      "     </script>\n",
      "     <script>\n",
      "      !function(d,s,id){var js,fjs=d.getElementsByTagName(s)[0],p=/^http:/.test(d.location)?'http':'https';if(!d.getElementById(id)){js=d.createElement(s);js.id=id;js.src=p+\"://platform.twitter.com/widgets.js\";fjs.parentNode.insertBefore(js,fjs);}}(document,\"script\",\"twitter-wjs\");\n",
      "     </script>\n",
      "    </div>\n",
      "   </div>\n",
      "  </div>\n",
      "  <div class=\"footer-wrapper\">\n",
      "   <footer id=\"bottom\">\n",
      "    <ul class=\"social\">\n",
      "     <li>\n",
      "      <a class=\"icon google-plus\" data-icon=\"\" href=\"https://plus.google.com/communities/108807002736066163985\" title=\"Google+\">\n",
      "      </a>\n",
      "     </li>\n",
      "     <li>\n",
      "      <a class=\"icon github\" data-icon=\"\" href=\"http://github.com/pyladies\" title=\"GitHub\">\n",
      "      </a>\n",
      "     </li>\n",
      "     <li>\n",
      "      <a class=\"icon rss\" data-icon=\"\" href=\"http://pyladies.com/feed.xml\" title=\"RSS\">\n",
      "      </a>\n",
      "     </li>\n",
      "     <li>\n",
      "      <a class=\"icon creative-commons\" data-icon=\"🕅\" href=\"http://creativecommons.org/licenses/by-sa/3.0/\" title=\"Creative Commons\">\n",
      "      </a>\n",
      "     </li>\n",
      "     <ul class=\"footer-notice\">\n",
      "      <li>\n",
      "       2007 - 2018 PyLadies. All Rights Reserved.\n",
      "      </li>\n",
      "      <li>\n",
      "       Disclaimer - PyLadies and the PyLadies logo are trademarks of the Python Software Foundation\n",
      "      </li>\n",
      "     </ul>\n",
      "    </ul>\n",
      "   </footer>\n",
      "  </div>\n",
      "  <script type=\"text/javascript\">\n",
      "   var _gaq = _gaq || [];\n",
      "      _gaq.push(['_setAccount', 'UA-36930002-1']);\n",
      "      _gaq.push(['_trackPageview']);\n",
      "\n",
      "      (function() {\n",
      "        var ga = document.createElement('script'); ga.type = 'text/javascript'; ga.async = true;\n",
      "        ga.src = ('https:' == document.location.protocol ? 'https://ssl' : 'http://www') + '.google-analytics.com/ga.js';\n",
      "        var s = document.getElementsByTagName('script')[0]; s.parentNode.insertBefore(ga, s);\n",
      "      })();\n",
      "  </script>\n",
      " </body>\n",
      "</html>\n"
     ]
    }
   ],
   "source": [
    "soup = BeautifulSoup(r.text, \"html.parser\")\n",
    "print(soup.prettify())"
   ]
  },
  {
   "cell_type": "code",
   "execution_count": 13,
   "metadata": {},
   "outputs": [
    {
     "data": {
      "text/plain": [
       "<div class=\"header\">\n",
       "<div id=\"pyladies_header_logo\">\n",
       "<a href=\"/\"><img alt=\"PyLadies Logo\" height=\"120\" src=\"/assets/images/pyladies_logo.png\" width=\"260\"/></a>\n",
       "</div>\n",
       "<nav>\n",
       "<ul class=\"nav-wrapper\">\n",
       "<li><a href=\"/\">Home</a></li>\n",
       "<li><a href=\"/about/\">About</a></li>\n",
       "<li><a href=\"https://discuss.pyladies.com\">Forum</a></li>\n",
       "<li><a href=\"/locations/\">Locations</a></li>\n",
       "<li><a href=\"https://blog.pyladies.com\">Blog</a></li>\n",
       "<li><a href=\"/CodeOfConduct/\">Code of Conduct</a></li>\n",
       "<li><a href=\"/resources/\">Resources</a></li>\n",
       "<li><a href=\"/cdn-cgi/l/email-protection#543d3a323b14242d3835303d31277a373b396b2721363e313720691c3138383b\" id=\"contact-link\">Contact</a></li>\n",
       "<li><a href=\"http://pyladies.com/feed.xml\" title=\"RSS\">RSS</a></li>\n",
       "</ul>\n",
       "</nav>\n",
       "</div>"
      ]
     },
     "execution_count": 13,
     "metadata": {},
     "output_type": "execute_result"
    }
   ],
   "source": [
    "soup.find('div')# returns the first div on the page"
   ]
  },
  {
   "cell_type": "code",
   "execution_count": 34,
   "metadata": {},
   "outputs": [],
   "source": [
    "# find the first div with id='welcome_message'\n",
    "soup.find('div', id='welcome_message')"
   ]
  },
  {
   "cell_type": "code",
   "execution_count": 15,
   "metadata": {},
   "outputs": [
    {
     "data": {
      "text/plain": [
       "<div class=\"header\">\n",
       "<div id=\"pyladies_header_logo\">\n",
       "<a href=\"/\"><img alt=\"PyLadies Logo\" height=\"120\" src=\"/assets/images/pyladies_logo.png\" width=\"260\"/></a>\n",
       "</div>\n",
       "<nav>\n",
       "<ul class=\"nav-wrapper\">\n",
       "<li><a href=\"/\">Home</a></li>\n",
       "<li><a href=\"/about/\">About</a></li>\n",
       "<li><a href=\"https://discuss.pyladies.com\">Forum</a></li>\n",
       "<li><a href=\"/locations/\">Locations</a></li>\n",
       "<li><a href=\"https://blog.pyladies.com\">Blog</a></li>\n",
       "<li><a href=\"/CodeOfConduct/\">Code of Conduct</a></li>\n",
       "<li><a href=\"/resources/\">Resources</a></li>\n",
       "<li><a href=\"/cdn-cgi/l/email-protection#543d3a323b14242d3835303d31277a373b396b2721363e313720691c3138383b\" id=\"contact-link\">Contact</a></li>\n",
       "<li><a href=\"http://pyladies.com/feed.xml\" title=\"RSS\">RSS</a></li>\n",
       "</ul>\n",
       "</nav>\n",
       "</div>"
      ]
     },
     "execution_count": 15,
     "metadata": {},
     "output_type": "execute_result"
    }
   ],
   "source": [
    "soup.title\n",
    "soup.h1 \n",
    "soup.body.div"
   ]
  },
  {
   "cell_type": "code",
   "execution_count": 16,
   "metadata": {},
   "outputs": [
    {
     "data": {
      "text/plain": [
       "<div id=\"stickers_btn\" style=\"display:flex;justify-content:center;align-items:center;font-size:14px;\"><a href=\"https://www.stickermule.com/user/1070441144/stickers\">Buy Stickers</a></div>"
      ]
     },
     "execution_count": 16,
     "metadata": {},
     "output_type": "execute_result"
    }
   ],
   "source": [
    "soup.find('div', id='stickers_btn')"
   ]
  },
  {
   "cell_type": "code",
   "execution_count": 17,
   "metadata": {},
   "outputs": [
    {
     "data": {
      "text/plain": [
       "[<a class=\"github-corner\" href=\"https://github.com/pyladies/pyladies\"><svg height=\"80\" style=\"fill:rgb(255, 100, 100); color:#fff; position: absolute; top: 0; border: 0; left: 0; transform: scale(-1, 1);\" viewbox=\"0 0 250 250\" width=\"80\"><path d=\"M0,0 L115,115 L130,115 L142,142 L250,250 L250,0 Z\"></path><path class=\"octo-arm\" d=\"M128.3,109.0 C113.8,99.7 119.0,89.6 119.0,89.6 C122.0,82.7 120.5,78.6 120.5,78.6 C119.2,72.0 123.4,76.3 123.4,76.3 C127.3,80.9 125.5,87.3 125.5,87.3 C122.9,97.6 130.6,101.9 134.4,103.2\" fill=\"currentColor\" style=\"transform-origin: 130px 106px;\"></path><path class=\"octo-body\" d=\"M115.0,115.0 C114.9,115.1 118.7,116.5 119.8,115.4 L133.7,101.6 C136.9,99.2 139.9,98.4 142.2,98.6 C133.8,88.0 127.5,74.4 143.8,58.0 C148.5,53.4 154.0,51.2 159.7,51.0 C160.3,49.4 163.2,43.6 171.4,40.1 C171.4,40.1 176.1,42.5 178.8,56.2 C183.1,58.6 187.2,61.8 190.9,65.4 C194.5,69.0 197.7,73.2 200.1,77.6 C213.8,80.2 216.3,84.9 216.3,84.9 C212.7,93.1 206.9,96.0 205.4,96.6 C205.1,102.4 203.0,107.8 198.3,112.5 C181.9,128.9 168.3,122.5 157.7,114.1 C157.9,116.9 156.7,120.9 152.7,124.9 L141.0,136.5 C139.8,137.7 141.6,141.9 141.8,141.8 Z\" fill=\"currentColor\"></path></svg></a>,\n",
       " <a href=\"/\"><img alt=\"PyLadies Logo\" height=\"120\" src=\"/assets/images/pyladies_logo.png\" width=\"260\"/></a>,\n",
       " <a href=\"/\">Home</a>,\n",
       " <a href=\"/about/\">About</a>,\n",
       " <a href=\"https://discuss.pyladies.com\">Forum</a>,\n",
       " <a href=\"/locations/\">Locations</a>,\n",
       " <a href=\"https://blog.pyladies.com\">Blog</a>,\n",
       " <a href=\"/CodeOfConduct/\">Code of Conduct</a>,\n",
       " <a href=\"/resources/\">Resources</a>,\n",
       " <a href=\"/cdn-cgi/l/email-protection#543d3a323b14242d3835303d31277a373b396b2721363e313720691c3138383b\" id=\"contact-link\">Contact</a>,\n",
       " <a href=\"http://pyladies.com/feed.xml\" title=\"RSS\">RSS</a>,\n",
       " <a href=\"/blog/Web-Development/django-resources/\">Web Development</a>,\n",
       " <a href=\"http://www.djangoproject.com/\">Django</a>,\n",
       " <a href=\"https://docs.djangoproject.com/en/stable/intro/tutorial01/\">the official Django polls tutorial</a>,\n",
       " <a href=\"http://tutorial.djangogirls.org/\">Django Girls blog tutorial</a>,\n",
       " <a href=\"https://www.twoscoopspress.com/collections/django/products/two-scoops-of-django-1-11\">Two Scoops of Django: Best Practices For Django 1.11</a>,\n",
       " <a class=\"more-link\" href=\"/blog/Web-Development/django-resources/\">Read more →</a>,\n",
       " <a href=\"/blog/A-PyLadies-packed-PyCon-2015/pyladies-at-pycon/\">A PyLadies-packed PyCon 2015</a>,\n",
       " <a class=\"more-link\" href=\"/blog/A-PyLadies-packed-PyCon-2015/pyladies-at-pycon/\">Read more →</a>,\n",
       " <a href=\"/sponsor/\">Sponsor Us</a>,\n",
       " <a href=\"https://pyladies.spreadshirt.com/\">Get Swag</a>,\n",
       " <a href=\"https://www.stickermule.com/user/1070441144/stickers\">Buy Stickers</a>,\n",
       " <a class=\"twitter-timeline\" data-widget-id=\"635861904234258433\" href=\"https://twitter.com/pyladies/lists/pyladies-locations\">Tweets from https://twitter.com/pyladies/lists/pyladies-locations</a>,\n",
       " <a class=\"icon google-plus\" data-icon=\"\" href=\"https://plus.google.com/communities/108807002736066163985\" title=\"Google+\"></a>,\n",
       " <a class=\"icon github\" data-icon=\"\" href=\"http://github.com/pyladies\" title=\"GitHub\"></a>,\n",
       " <a class=\"icon rss\" data-icon=\"\" href=\"http://pyladies.com/feed.xml\" title=\"RSS\"></a>,\n",
       " <a class=\"icon creative-commons\" data-icon=\"🕅\" href=\"http://creativecommons.org/licenses/by-sa/3.0/\" title=\"Creative Commons\"></a>]"
      ]
     },
     "execution_count": 17,
     "metadata": {},
     "output_type": "execute_result"
    }
   ],
   "source": [
    "soup.find_all('a')"
   ]
  },
  {
   "cell_type": "code",
   "execution_count": 18,
   "metadata": {},
   "outputs": [
    {
     "data": {
      "text/plain": [
       "[<article class=\"welcome\">\n",
       " <div id=\"welcome_message\">\n",
       " <h2>Welcome!</h2>\n",
       " <img alt=\"Pyladies lady graphic\" src=\"/assets/images/pylady_geek.png\"/>\n",
       " <p>We are an international mentorship group with a focus on helping more women become active participants and leaders in the Python open-source community. Our mission is to promote, educate and advance a diverse Python community through outreach, education, conferences, events and social gatherings.</p>\n",
       " <p>PyLadies also aims to provide a friendly support network for women and a bridge to the larger Python world. Anyone with an interest in Python is encouraged to participate!</p>\n",
       " </div>\n",
       " </article>]"
      ]
     },
     "execution_count": 18,
     "metadata": {},
     "output_type": "execute_result"
    }
   ],
   "source": [
    "soup.find_all('div', id='latestBlog')\n",
    "soup.find_all('article', class_='welcome') # note underscore!"
   ]
  },
  {
   "cell_type": "code",
   "execution_count": 19,
   "metadata": {},
   "outputs": [
    {
     "data": {
      "text/plain": [
       "[<a class=\"icon google-plus\" data-icon=\"\" href=\"https://plus.google.com/communities/108807002736066163985\" title=\"Google+\"></a>,\n",
       " <a class=\"icon github\" data-icon=\"\" href=\"http://github.com/pyladies\" title=\"GitHub\"></a>,\n",
       " <a class=\"icon rss\" data-icon=\"\" href=\"http://pyladies.com/feed.xml\" title=\"RSS\"></a>,\n",
       " <a class=\"icon creative-commons\" data-icon=\"🕅\" href=\"http://creativecommons.org/licenses/by-sa/3.0/\" title=\"Creative Commons\"></a>]"
      ]
     },
     "execution_count": 19,
     "metadata": {},
     "output_type": "execute_result"
    }
   ],
   "source": [
    "soup.find_all('a', class_='icon')"
   ]
  },
  {
   "cell_type": "code",
   "execution_count": 22,
   "metadata": {},
   "outputs": [
    {
     "name": "stdout",
     "output_type": "stream",
     "text": [
      "<p>We are an international mentorship group with a focus on helping more women become active participants and leaders in the Python open-source community. Our mission is to promote, educate and advance a diverse Python community through outreach, education, conferences, events and social gatherings.</p>\n",
      "<p>PyLadies also aims to provide a friendly support network for women and a bridge to the larger Python world. Anyone with an interest in Python is encouraged to participate!</p>\n",
      "<p><a href=\"http://www.djangoproject.com/\">Django</a> is one of the most popular web frameworks. It’s a great option if you want to use Python to build web apps.  Start with <a href=\"https://docs.djangoproject.com/en/stable/intro/tutorial01/\">the official Django polls tutorial</a> or the <a href=\"http://tutorial.djangogirls.org/\">Django Girls blog tutorial</a>.  <a href=\"https://www.twoscoopspress.com/collections/django/products/two-scoops-of-django-1-11\">Two Scoops of Django: Best Practices For Django 1.11</a> was co-written by one of the co-founders of PyLadies!   <a class=\"more-link\" href=\"/blog/Web-Development/django-resources/\">Read more →</a></p>\n",
      "<p>Want to pack your PyCon schedule with PyLadies events?  Here are all the details!  <a class=\"more-link\" href=\"/blog/A-PyLadies-packed-PyCon-2015/pyladies-at-pycon/\">Read more →</a></p>\n"
     ]
    }
   ],
   "source": [
    "first_paragraph = soup.find_all('p')[0]\n",
    "second_paragraph = soup.find_all('p')[1]\n",
    "\n",
    "for paragraph in soup.find_all('p'):\n",
    "\tprint(paragraph)"
   ]
  },
  {
   "cell_type": "code",
   "execution_count": 23,
   "metadata": {},
   "outputs": [
    {
     "data": {
      "text/plain": [
       "'\\nWeb Development\\nMay 03, 2015\\nDjango is one of the most popular web frameworks. It’s a great option if you want to use Python to build web apps.  Start with the official Django polls tutorial or the Django Girls blog tutorial.  Two Scoops of Django: Best Practices For Django 1.11 was co-written by one of the co-founders of PyLadies!   Read more →\\nA PyLadies-packed PyCon 2015\\nMarch 23, 2015\\nWant to pack your PyCon schedule with PyLadies events?  Here are all the details!  Read more →\\n'"
      ]
     },
     "execution_count": 23,
     "metadata": {},
     "output_type": "execute_result"
    }
   ],
   "source": [
    "soup.find('div', id='latestBlog').get_text()"
   ]
  },
  {
   "cell_type": "code",
   "execution_count": 24,
   "metadata": {},
   "outputs": [
    {
     "name": "stdout",
     "output_type": "stream",
     "text": [
      "We are an international mentorship group with a focus on helping more women become active participants and leaders in the Python open-source community. Our mission is to promote, educate and advance a diverse Python community through outreach, education, conferences, events and social gatherings.\n",
      "PyLadies also aims to provide a friendly support network for women and a bridge to the larger Python world. Anyone with an interest in Python is encouraged to participate!\n",
      "Django is one of the most popular web frameworks. It’s a great option if you want to use Python to build web apps.  Start with the official Django polls tutorial or the Django Girls blog tutorial.  Two Scoops of Django: Best Practices For Django 1.11 was co-written by one of the co-founders of PyLadies!   Read more →\n",
      "Want to pack your PyCon schedule with PyLadies events?  Here are all the details!  Read more →\n"
     ]
    }
   ],
   "source": [
    "paragraphs = soup.find_all('p')\n",
    "for p in paragraphs:\n",
    "\tprint(p.get_text())"
   ]
  },
  {
   "cell_type": "code",
   "execution_count": 25,
   "metadata": {},
   "outputs": [
    {
     "name": "stdout",
     "output_type": "stream",
     "text": [
      "https://github.com/pyladies/pyladies\n",
      "/\n",
      "/\n",
      "/about/\n",
      "https://discuss.pyladies.com\n",
      "/locations/\n",
      "https://blog.pyladies.com\n",
      "/CodeOfConduct/\n",
      "/resources/\n",
      "/cdn-cgi/l/email-protection#543d3a323b14242d3835303d31277a373b396b2721363e313720691c3138383b\n",
      "http://pyladies.com/feed.xml\n",
      "/blog/Web-Development/django-resources/\n",
      "http://www.djangoproject.com/\n",
      "https://docs.djangoproject.com/en/stable/intro/tutorial01/\n",
      "http://tutorial.djangogirls.org/\n",
      "https://www.twoscoopspress.com/collections/django/products/two-scoops-of-django-1-11\n",
      "/blog/Web-Development/django-resources/\n",
      "/blog/A-PyLadies-packed-PyCon-2015/pyladies-at-pycon/\n",
      "/blog/A-PyLadies-packed-PyCon-2015/pyladies-at-pycon/\n",
      "/sponsor/\n",
      "https://pyladies.spreadshirt.com/\n",
      "https://www.stickermule.com/user/1070441144/stickers\n",
      "https://twitter.com/pyladies/lists/pyladies-locations\n",
      "https://plus.google.com/communities/108807002736066163985\n",
      "http://github.com/pyladies\n",
      "http://pyladies.com/feed.xml\n",
      "http://creativecommons.org/licenses/by-sa/3.0/\n"
     ]
    }
   ],
   "source": [
    "for link in soup.find_all('a'):\n",
    "    print(link.get('href'))"
   ]
  },
  {
   "cell_type": "code",
   "execution_count": 31,
   "metadata": {},
   "outputs": [
    {
     "name": "stdout",
     "output_type": "stream",
     "text": [
      "Title: Wonder Woman (2017) \n",
      "Summary: \n",
      "                    When a pilot crashes and tells of conflict in the outside world, Diana, an Amazonian warrior in training, leaves home to fight a war, discovering her full powers and true destiny.\n",
      "            \n",
      "Rating: 7.5\n"
     ]
    }
   ],
   "source": [
    "# imdb wonder woman exercise\n",
    "WonderWoman = requests.get('https://www.imdb.com/title/tt0451279/')\n",
    "soup = BeautifulSoup(WonderWoman.text, \"html.parser\")\n",
    "\n",
    "title = soup.h1.get_text()\n",
    "summary = soup.find('div', class_='summary_text').get_text()\n",
    "rating = soup.find('span', itemprop='ratingValue').get_text()\n",
    "\n",
    "print('Title: {}'.format(title))\n",
    "print('Summary: {}'.format(summary))\n",
    "print('Rating: {}'.format(rating))"
   ]
  },
  {
   "cell_type": "code",
   "execution_count": null,
   "metadata": {},
   "outputs": [],
   "source": []
  }
 ],
 "metadata": {
  "kernelspec": {
   "display_name": "Python 3",
   "language": "python",
   "name": "python3"
  },
  "language_info": {
   "codemirror_mode": {
    "name": "ipython",
    "version": 3
   },
   "file_extension": ".py",
   "mimetype": "text/x-python",
   "name": "python",
   "nbconvert_exporter": "python",
   "pygments_lexer": "ipython3",
   "version": "3.6.5"
  }
 },
 "nbformat": 4,
 "nbformat_minor": 2
}
